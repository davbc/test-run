{
 "cells": [
  {
   "cell_type": "code",
   "execution_count": 3,
   "metadata": {},
   "outputs": [
    {
     "name": "stdout",
     "output_type": "stream",
     "text": [
      "hello world, ben is a useless boy\n"
     ]
    }
   ],
   "source": [
    "print (\"hello world, ben is a useless boy\")"
   ]
  },
  {
   "cell_type": "code",
   "execution_count": 13,
   "metadata": {},
   "outputs": [
    {
     "name": "stdout",
     "output_type": "stream",
     "text": [
      "                                                                        very\n",
      "                                                               veryvery\n",
      "                                                      veryveryvery\n",
      "                                             veryveryveryvery\n",
      "                                    veryveryveryveryvery\n",
      "                           veryveryveryveryveryvery\n",
      "                  veryveryveryveryveryveryvery\n",
      "         veryveryveryveryveryveryveryvery\n",
      "veryveryveryveryveryveryveryveryvery\n",
      "         veryveryveryveryveryveryveryvery\n",
      "                  veryveryveryveryveryveryvery\n",
      "                           veryveryveryveryveryvery\n",
      "                                    veryveryveryveryvery\n",
      "                                             veryveryveryvery\n",
      "                                                      veryveryvery\n",
      "                                                               veryvery\n",
      "                                                                        very\n"
     ]
    }
   ],
   "source": [
    "a=[1,2,3,4,5,6,7,8,9,8,7,6,5,4,3,2,1]\n",
    "b=[' '*9*(9-i)+'very'*i for i in a]\n",
    "for line in b:\n",
    "    print (line)"
   ]
  },
  {
   "cell_type": "code",
   "execution_count": 14,
   "metadata": {},
   "outputs": [
    {
     "name": "stdout",
     "output_type": "stream",
     "text": [
      "david is a warey!!!!!!!!\n"
     ]
    }
   ],
   "source": [
    "a=10\n",
    "b=20\n",
    "\n",
    "if a > b:\n",
    "    print(\"david is stupid\")\n",
    "else:\n",
    "    print (\"david is a warey!!!!!!!!\")"
   ]
  },
  {
   "cell_type": "code",
   "execution_count": null,
   "metadata": {},
   "outputs": [],
   "source": []
  },
  {
   "cell_type": "code",
   "execution_count": null,
   "metadata": {},
   "outputs": [],
   "source": []
  }
 ],
 "metadata": {
  "kernelspec": {
   "display_name": "Python 3.10.5 64-bit",
   "language": "python",
   "name": "python3"
  },
  "language_info": {
   "codemirror_mode": {
    "name": "ipython",
    "version": 3
   },
   "file_extension": ".py",
   "mimetype": "text/x-python",
   "name": "python",
   "nbconvert_exporter": "python",
   "pygments_lexer": "ipython3",
   "version": "3.10.5"
  },
  "orig_nbformat": 4,
  "vscode": {
   "interpreter": {
    "hash": "a8fcf0f4c02d7074bcc9665f1ff6d297e519eea0e9023d983c0ed88d3e9576b4"
   }
  }
 },
 "nbformat": 4,
 "nbformat_minor": 2
}
